{
 "cells": [
  {
   "cell_type": "code",
   "execution_count": 46,
   "metadata": {
    "_cell_guid": "b1076dfc-b9ad-4769-8c92-a6c4dae69d19",
    "_uuid": "8f2839f25d086af736a60e9eeb907d3b93b6e0e5",
    "execution": {
     "iopub.execute_input": "2022-04-10T07:43:00.753139Z",
     "iopub.status.busy": "2022-04-10T07:43:00.752440Z",
     "iopub.status.idle": "2022-04-10T07:43:00.784810Z",
     "shell.execute_reply": "2022-04-10T07:43:00.783933Z",
     "shell.execute_reply.started": "2022-04-10T07:43:00.753014Z"
    }
   },
   "outputs": [],
   "source": [
    "import numpy as np # linear algebra\n",
    "import pandas as pd # data processing, CSV file I/O (e.g. pd.read_csv)\n",
    "\n",
    "import matplotlib.pyplot as plt\n",
    "import seaborn as sns\n",
    "\n",
    "from sklearn.preprocessing import StandardScaler, OneHotEncoder\n",
    "import xgboost as xgb\n",
    "from sklearn.model_selection import train_test_split\n",
    "from sklearn.metrics import mean_squared_error\n",
    "\n",
    "from hyperopt import hp,fmin,tpe,STATUS_OK,Trials\n",
    "from sklearn.model_selection import cross_val_score\n",
    "\n",
    "import warnings\n",
    "warnings.filterwarnings('ignore')"
   ]
  },
  {
   "cell_type": "code",
   "execution_count": 2,
   "metadata": {
    "execution": {
     "iopub.execute_input": "2022-04-10T07:43:04.684373Z",
     "iopub.status.busy": "2022-04-10T07:43:04.683727Z",
     "iopub.status.idle": "2022-04-10T07:43:39.428924Z",
     "shell.execute_reply": "2022-04-10T07:43:39.427943Z",
     "shell.execute_reply.started": "2022-04-10T07:43:04.684310Z"
    }
   },
   "outputs": [
    {
     "name": "stdout",
     "output_type": "stream",
     "text": [
      "               Id         groupId         matchId  assists  boosts  \\\n",
      "0  7f96b2f878858a  4d4b580de459be  a10357fd1a4a91        0       0   \n",
      "1  eef90569b9d03c  684d5656442f9e  aeb375fc57110c        0       0   \n",
      "2  1eaf90ac73de72  6a4a42c3245a74  110163d8bb94ae        1       0   \n",
      "3  4616d365dd2853  a930a9c79cd721  f1f1f4ef412d7e        0       0   \n",
      "4  315c96c26c9aac  de04010b3458dd  6dc8ff871e21e6        0       0   \n",
      "\n",
      "   damageDealt  DBNOs  headshotKills  heals  killPlace  ...  revives  \\\n",
      "0         0.00      0              0      0         60  ...        0   \n",
      "1        91.47      0              0      0         57  ...        0   \n",
      "2        68.00      0              0      0         47  ...        0   \n",
      "3        32.90      0              0      0         75  ...        0   \n",
      "4       100.00      0              0      0         45  ...        0   \n",
      "\n",
      "   rideDistance  roadKills  swimDistance  teamKills vehicleDestroys  \\\n",
      "0        0.0000          0          0.00          0               0   \n",
      "1        0.0045          0         11.04          0               0   \n",
      "2        0.0000          0          0.00          0               0   \n",
      "3        0.0000          0          0.00          0               0   \n",
      "4        0.0000          0          0.00          0               0   \n",
      "\n",
      "   walkDistance  weaponsAcquired  winPoints  winPlacePerc  \n",
      "0        244.80                1       1466        0.4444  \n",
      "1       1434.00                5          0        0.6400  \n",
      "2        161.80                2          0        0.7755  \n",
      "3        202.70                3          0        0.1667  \n",
      "4         49.75                2          0        0.1875  \n",
      "\n",
      "[5 rows x 29 columns]\n"
     ]
    }
   ],
   "source": [
    "raw_data = pd.read_csv(r\"C:\\Users\\blaks\\Desktop\\Kaam\\pubg-finish-placement-prediction\\train_V2.csv\")\n",
    "print(raw_data.head())"
   ]
  },
  {
   "cell_type": "code",
   "execution_count": 3,
   "metadata": {
    "scrolled": true
   },
   "outputs": [
    {
     "name": "stdout",
     "output_type": "stream",
     "text": [
      "<class 'pandas.core.frame.DataFrame'>\n",
      "RangeIndex: 4446966 entries, 0 to 4446965\n",
      "Data columns (total 29 columns):\n",
      " #   Column           Dtype  \n",
      "---  ------           -----  \n",
      " 0   Id               object \n",
      " 1   groupId          object \n",
      " 2   matchId          object \n",
      " 3   assists          int64  \n",
      " 4   boosts           int64  \n",
      " 5   damageDealt      float64\n",
      " 6   DBNOs            int64  \n",
      " 7   headshotKills    int64  \n",
      " 8   heals            int64  \n",
      " 9   killPlace        int64  \n",
      " 10  killPoints       int64  \n",
      " 11  kills            int64  \n",
      " 12  killStreaks      int64  \n",
      " 13  longestKill      float64\n",
      " 14  matchDuration    int64  \n",
      " 15  matchType        object \n",
      " 16  maxPlace         int64  \n",
      " 17  numGroups        int64  \n",
      " 18  rankPoints       int64  \n",
      " 19  revives          int64  \n",
      " 20  rideDistance     float64\n",
      " 21  roadKills        int64  \n",
      " 22  swimDistance     float64\n",
      " 23  teamKills        int64  \n",
      " 24  vehicleDestroys  int64  \n",
      " 25  walkDistance     float64\n",
      " 26  weaponsAcquired  int64  \n",
      " 27  winPoints        int64  \n",
      " 28  winPlacePerc     float64\n",
      "dtypes: float64(6), int64(19), object(4)\n",
      "memory usage: 983.9+ MB\n"
     ]
    }
   ],
   "source": [
    "raw_data.info()"
   ]
  },
  {
   "cell_type": "code",
   "execution_count": 4,
   "metadata": {
    "scrolled": true
   },
   "outputs": [
    {
     "data": {
      "text/html": [
       "<div>\n",
       "<style scoped>\n",
       "    .dataframe tbody tr th:only-of-type {\n",
       "        vertical-align: middle;\n",
       "    }\n",
       "\n",
       "    .dataframe tbody tr th {\n",
       "        vertical-align: top;\n",
       "    }\n",
       "\n",
       "    .dataframe thead th {\n",
       "        text-align: right;\n",
       "    }\n",
       "</style>\n",
       "<table border=\"1\" class=\"dataframe\">\n",
       "  <thead>\n",
       "    <tr style=\"text-align: right;\">\n",
       "      <th></th>\n",
       "      <th>count</th>\n",
       "      <th>mean</th>\n",
       "      <th>std</th>\n",
       "      <th>min</th>\n",
       "      <th>25%</th>\n",
       "      <th>50%</th>\n",
       "      <th>75%</th>\n",
       "      <th>max</th>\n",
       "    </tr>\n",
       "  </thead>\n",
       "  <tbody>\n",
       "    <tr>\n",
       "      <th>assists</th>\n",
       "      <td>4446966.0</td>\n",
       "      <td>0.233815</td>\n",
       "      <td>0.588573</td>\n",
       "      <td>0.0</td>\n",
       "      <td>0.0</td>\n",
       "      <td>0.0000</td>\n",
       "      <td>0.000000</td>\n",
       "      <td>22.0</td>\n",
       "    </tr>\n",
       "    <tr>\n",
       "      <th>boosts</th>\n",
       "      <td>4446966.0</td>\n",
       "      <td>1.106908</td>\n",
       "      <td>1.715794</td>\n",
       "      <td>0.0</td>\n",
       "      <td>0.0</td>\n",
       "      <td>0.0000</td>\n",
       "      <td>2.000000</td>\n",
       "      <td>33.0</td>\n",
       "    </tr>\n",
       "    <tr>\n",
       "      <th>damageDealt</th>\n",
       "      <td>4446966.0</td>\n",
       "      <td>130.717138</td>\n",
       "      <td>170.780621</td>\n",
       "      <td>0.0</td>\n",
       "      <td>0.0</td>\n",
       "      <td>84.2400</td>\n",
       "      <td>186.000000</td>\n",
       "      <td>6616.0</td>\n",
       "    </tr>\n",
       "    <tr>\n",
       "      <th>DBNOs</th>\n",
       "      <td>4446966.0</td>\n",
       "      <td>0.657876</td>\n",
       "      <td>1.145743</td>\n",
       "      <td>0.0</td>\n",
       "      <td>0.0</td>\n",
       "      <td>0.0000</td>\n",
       "      <td>1.000000</td>\n",
       "      <td>53.0</td>\n",
       "    </tr>\n",
       "    <tr>\n",
       "      <th>headshotKills</th>\n",
       "      <td>4446966.0</td>\n",
       "      <td>0.226820</td>\n",
       "      <td>0.602155</td>\n",
       "      <td>0.0</td>\n",
       "      <td>0.0</td>\n",
       "      <td>0.0000</td>\n",
       "      <td>0.000000</td>\n",
       "      <td>64.0</td>\n",
       "    </tr>\n",
       "    <tr>\n",
       "      <th>heals</th>\n",
       "      <td>4446966.0</td>\n",
       "      <td>1.370147</td>\n",
       "      <td>2.679982</td>\n",
       "      <td>0.0</td>\n",
       "      <td>0.0</td>\n",
       "      <td>0.0000</td>\n",
       "      <td>2.000000</td>\n",
       "      <td>80.0</td>\n",
       "    </tr>\n",
       "    <tr>\n",
       "      <th>killPlace</th>\n",
       "      <td>4446966.0</td>\n",
       "      <td>47.599350</td>\n",
       "      <td>27.462937</td>\n",
       "      <td>1.0</td>\n",
       "      <td>24.0</td>\n",
       "      <td>47.0000</td>\n",
       "      <td>71.000000</td>\n",
       "      <td>101.0</td>\n",
       "    </tr>\n",
       "    <tr>\n",
       "      <th>killPoints</th>\n",
       "      <td>4446966.0</td>\n",
       "      <td>505.006042</td>\n",
       "      <td>627.504896</td>\n",
       "      <td>0.0</td>\n",
       "      <td>0.0</td>\n",
       "      <td>0.0000</td>\n",
       "      <td>1172.000000</td>\n",
       "      <td>2170.0</td>\n",
       "    </tr>\n",
       "    <tr>\n",
       "      <th>kills</th>\n",
       "      <td>4446966.0</td>\n",
       "      <td>0.924783</td>\n",
       "      <td>1.558445</td>\n",
       "      <td>0.0</td>\n",
       "      <td>0.0</td>\n",
       "      <td>0.0000</td>\n",
       "      <td>1.000000</td>\n",
       "      <td>72.0</td>\n",
       "    </tr>\n",
       "    <tr>\n",
       "      <th>killStreaks</th>\n",
       "      <td>4446966.0</td>\n",
       "      <td>0.543955</td>\n",
       "      <td>0.710972</td>\n",
       "      <td>0.0</td>\n",
       "      <td>0.0</td>\n",
       "      <td>0.0000</td>\n",
       "      <td>1.000000</td>\n",
       "      <td>20.0</td>\n",
       "    </tr>\n",
       "    <tr>\n",
       "      <th>longestKill</th>\n",
       "      <td>4446966.0</td>\n",
       "      <td>22.997595</td>\n",
       "      <td>50.972619</td>\n",
       "      <td>0.0</td>\n",
       "      <td>0.0</td>\n",
       "      <td>0.0000</td>\n",
       "      <td>21.320000</td>\n",
       "      <td>1094.0</td>\n",
       "    </tr>\n",
       "    <tr>\n",
       "      <th>matchDuration</th>\n",
       "      <td>4446966.0</td>\n",
       "      <td>1579.506440</td>\n",
       "      <td>258.739856</td>\n",
       "      <td>9.0</td>\n",
       "      <td>1367.0</td>\n",
       "      <td>1438.0000</td>\n",
       "      <td>1851.000000</td>\n",
       "      <td>2237.0</td>\n",
       "    </tr>\n",
       "    <tr>\n",
       "      <th>maxPlace</th>\n",
       "      <td>4446966.0</td>\n",
       "      <td>44.504670</td>\n",
       "      <td>23.828105</td>\n",
       "      <td>1.0</td>\n",
       "      <td>28.0</td>\n",
       "      <td>30.0000</td>\n",
       "      <td>49.000000</td>\n",
       "      <td>100.0</td>\n",
       "    </tr>\n",
       "    <tr>\n",
       "      <th>numGroups</th>\n",
       "      <td>4446966.0</td>\n",
       "      <td>43.007593</td>\n",
       "      <td>23.289495</td>\n",
       "      <td>1.0</td>\n",
       "      <td>27.0</td>\n",
       "      <td>30.0000</td>\n",
       "      <td>47.000000</td>\n",
       "      <td>100.0</td>\n",
       "    </tr>\n",
       "    <tr>\n",
       "      <th>rankPoints</th>\n",
       "      <td>4446966.0</td>\n",
       "      <td>892.010457</td>\n",
       "      <td>736.647779</td>\n",
       "      <td>-1.0</td>\n",
       "      <td>-1.0</td>\n",
       "      <td>1443.0000</td>\n",
       "      <td>1500.000000</td>\n",
       "      <td>5910.0</td>\n",
       "    </tr>\n",
       "    <tr>\n",
       "      <th>revives</th>\n",
       "      <td>4446966.0</td>\n",
       "      <td>0.164659</td>\n",
       "      <td>0.472167</td>\n",
       "      <td>0.0</td>\n",
       "      <td>0.0</td>\n",
       "      <td>0.0000</td>\n",
       "      <td>0.000000</td>\n",
       "      <td>39.0</td>\n",
       "    </tr>\n",
       "    <tr>\n",
       "      <th>rideDistance</th>\n",
       "      <td>4446966.0</td>\n",
       "      <td>606.115669</td>\n",
       "      <td>1498.343513</td>\n",
       "      <td>0.0</td>\n",
       "      <td>0.0</td>\n",
       "      <td>0.0000</td>\n",
       "      <td>0.190975</td>\n",
       "      <td>40710.0</td>\n",
       "    </tr>\n",
       "    <tr>\n",
       "      <th>roadKills</th>\n",
       "      <td>4446966.0</td>\n",
       "      <td>0.003496</td>\n",
       "      <td>0.073373</td>\n",
       "      <td>0.0</td>\n",
       "      <td>0.0</td>\n",
       "      <td>0.0000</td>\n",
       "      <td>0.000000</td>\n",
       "      <td>18.0</td>\n",
       "    </tr>\n",
       "    <tr>\n",
       "      <th>swimDistance</th>\n",
       "      <td>4446966.0</td>\n",
       "      <td>4.509322</td>\n",
       "      <td>30.502199</td>\n",
       "      <td>0.0</td>\n",
       "      <td>0.0</td>\n",
       "      <td>0.0000</td>\n",
       "      <td>0.000000</td>\n",
       "      <td>3823.0</td>\n",
       "    </tr>\n",
       "    <tr>\n",
       "      <th>teamKills</th>\n",
       "      <td>4446966.0</td>\n",
       "      <td>0.023868</td>\n",
       "      <td>0.167394</td>\n",
       "      <td>0.0</td>\n",
       "      <td>0.0</td>\n",
       "      <td>0.0000</td>\n",
       "      <td>0.000000</td>\n",
       "      <td>12.0</td>\n",
       "    </tr>\n",
       "    <tr>\n",
       "      <th>vehicleDestroys</th>\n",
       "      <td>4446966.0</td>\n",
       "      <td>0.007918</td>\n",
       "      <td>0.092612</td>\n",
       "      <td>0.0</td>\n",
       "      <td>0.0</td>\n",
       "      <td>0.0000</td>\n",
       "      <td>0.000000</td>\n",
       "      <td>5.0</td>\n",
       "    </tr>\n",
       "    <tr>\n",
       "      <th>walkDistance</th>\n",
       "      <td>4446966.0</td>\n",
       "      <td>1154.217859</td>\n",
       "      <td>1183.497042</td>\n",
       "      <td>0.0</td>\n",
       "      <td>155.1</td>\n",
       "      <td>685.6000</td>\n",
       "      <td>1976.000000</td>\n",
       "      <td>25780.0</td>\n",
       "    </tr>\n",
       "    <tr>\n",
       "      <th>weaponsAcquired</th>\n",
       "      <td>4446966.0</td>\n",
       "      <td>3.660488</td>\n",
       "      <td>2.456544</td>\n",
       "      <td>0.0</td>\n",
       "      <td>2.0</td>\n",
       "      <td>3.0000</td>\n",
       "      <td>5.000000</td>\n",
       "      <td>236.0</td>\n",
       "    </tr>\n",
       "    <tr>\n",
       "      <th>winPoints</th>\n",
       "      <td>4446966.0</td>\n",
       "      <td>606.460131</td>\n",
       "      <td>739.700444</td>\n",
       "      <td>0.0</td>\n",
       "      <td>0.0</td>\n",
       "      <td>0.0000</td>\n",
       "      <td>1495.000000</td>\n",
       "      <td>2013.0</td>\n",
       "    </tr>\n",
       "    <tr>\n",
       "      <th>winPlacePerc</th>\n",
       "      <td>4446965.0</td>\n",
       "      <td>0.472822</td>\n",
       "      <td>0.307405</td>\n",
       "      <td>0.0</td>\n",
       "      <td>0.2</td>\n",
       "      <td>0.4583</td>\n",
       "      <td>0.740700</td>\n",
       "      <td>1.0</td>\n",
       "    </tr>\n",
       "  </tbody>\n",
       "</table>\n",
       "</div>"
      ],
      "text/plain": [
       "                     count         mean          std  min     25%        50%  \\\n",
       "assists          4446966.0     0.233815     0.588573  0.0     0.0     0.0000   \n",
       "boosts           4446966.0     1.106908     1.715794  0.0     0.0     0.0000   \n",
       "damageDealt      4446966.0   130.717138   170.780621  0.0     0.0    84.2400   \n",
       "DBNOs            4446966.0     0.657876     1.145743  0.0     0.0     0.0000   \n",
       "headshotKills    4446966.0     0.226820     0.602155  0.0     0.0     0.0000   \n",
       "heals            4446966.0     1.370147     2.679982  0.0     0.0     0.0000   \n",
       "killPlace        4446966.0    47.599350    27.462937  1.0    24.0    47.0000   \n",
       "killPoints       4446966.0   505.006042   627.504896  0.0     0.0     0.0000   \n",
       "kills            4446966.0     0.924783     1.558445  0.0     0.0     0.0000   \n",
       "killStreaks      4446966.0     0.543955     0.710972  0.0     0.0     0.0000   \n",
       "longestKill      4446966.0    22.997595    50.972619  0.0     0.0     0.0000   \n",
       "matchDuration    4446966.0  1579.506440   258.739856  9.0  1367.0  1438.0000   \n",
       "maxPlace         4446966.0    44.504670    23.828105  1.0    28.0    30.0000   \n",
       "numGroups        4446966.0    43.007593    23.289495  1.0    27.0    30.0000   \n",
       "rankPoints       4446966.0   892.010457   736.647779 -1.0    -1.0  1443.0000   \n",
       "revives          4446966.0     0.164659     0.472167  0.0     0.0     0.0000   \n",
       "rideDistance     4446966.0   606.115669  1498.343513  0.0     0.0     0.0000   \n",
       "roadKills        4446966.0     0.003496     0.073373  0.0     0.0     0.0000   \n",
       "swimDistance     4446966.0     4.509322    30.502199  0.0     0.0     0.0000   \n",
       "teamKills        4446966.0     0.023868     0.167394  0.0     0.0     0.0000   \n",
       "vehicleDestroys  4446966.0     0.007918     0.092612  0.0     0.0     0.0000   \n",
       "walkDistance     4446966.0  1154.217859  1183.497042  0.0   155.1   685.6000   \n",
       "weaponsAcquired  4446966.0     3.660488     2.456544  0.0     2.0     3.0000   \n",
       "winPoints        4446966.0   606.460131   739.700444  0.0     0.0     0.0000   \n",
       "winPlacePerc     4446965.0     0.472822     0.307405  0.0     0.2     0.4583   \n",
       "\n",
       "                         75%      max  \n",
       "assists             0.000000     22.0  \n",
       "boosts              2.000000     33.0  \n",
       "damageDealt       186.000000   6616.0  \n",
       "DBNOs               1.000000     53.0  \n",
       "headshotKills       0.000000     64.0  \n",
       "heals               2.000000     80.0  \n",
       "killPlace          71.000000    101.0  \n",
       "killPoints       1172.000000   2170.0  \n",
       "kills               1.000000     72.0  \n",
       "killStreaks         1.000000     20.0  \n",
       "longestKill        21.320000   1094.0  \n",
       "matchDuration    1851.000000   2237.0  \n",
       "maxPlace           49.000000    100.0  \n",
       "numGroups          47.000000    100.0  \n",
       "rankPoints       1500.000000   5910.0  \n",
       "revives             0.000000     39.0  \n",
       "rideDistance        0.190975  40710.0  \n",
       "roadKills           0.000000     18.0  \n",
       "swimDistance        0.000000   3823.0  \n",
       "teamKills           0.000000     12.0  \n",
       "vehicleDestroys     0.000000      5.0  \n",
       "walkDistance     1976.000000  25780.0  \n",
       "weaponsAcquired     5.000000    236.0  \n",
       "winPoints        1495.000000   2013.0  \n",
       "winPlacePerc        0.740700      1.0  "
      ]
     },
     "execution_count": 4,
     "metadata": {},
     "output_type": "execute_result"
    }
   ],
   "source": [
    "raw_data.describe().T"
   ]
  },
  {
   "cell_type": "code",
   "execution_count": 5,
   "metadata": {
    "scrolled": true
   },
   "outputs": [
    {
     "data": {
      "text/plain": [
       "Id                 0\n",
       "groupId            0\n",
       "matchId            0\n",
       "assists            0\n",
       "boosts             0\n",
       "damageDealt        0\n",
       "DBNOs              0\n",
       "headshotKills      0\n",
       "heals              0\n",
       "killPlace          0\n",
       "killPoints         0\n",
       "kills              0\n",
       "killStreaks        0\n",
       "longestKill        0\n",
       "matchDuration      0\n",
       "matchType          0\n",
       "maxPlace           0\n",
       "numGroups          0\n",
       "rankPoints         0\n",
       "revives            0\n",
       "rideDistance       0\n",
       "roadKills          0\n",
       "swimDistance       0\n",
       "teamKills          0\n",
       "vehicleDestroys    0\n",
       "walkDistance       0\n",
       "weaponsAcquired    0\n",
       "winPoints          0\n",
       "winPlacePerc       1\n",
       "dtype: int64"
      ]
     },
     "execution_count": 5,
     "metadata": {},
     "output_type": "execute_result"
    }
   ],
   "source": [
    "raw_data.isnull().sum()"
   ]
  },
  {
   "cell_type": "code",
   "execution_count": 6,
   "metadata": {},
   "outputs": [
    {
     "data": {
      "text/plain": [
       "(4446966, 29)"
      ]
     },
     "execution_count": 6,
     "metadata": {},
     "output_type": "execute_result"
    }
   ],
   "source": [
    "raw_data.shape"
   ]
  },
  {
   "cell_type": "code",
   "execution_count": 7,
   "metadata": {
    "execution": {
     "iopub.execute_input": "2022-04-10T07:43:39.431192Z",
     "iopub.status.busy": "2022-04-10T07:43:39.430668Z",
     "iopub.status.idle": "2022-04-10T07:43:42.957711Z",
     "shell.execute_reply": "2022-04-10T07:43:42.956761Z",
     "shell.execute_reply.started": "2022-04-10T07:43:39.431125Z"
    }
   },
   "outputs": [],
   "source": [
    "raw_data = raw_data.dropna().reset_index(drop=True)"
   ]
  },
  {
   "cell_type": "code",
   "execution_count": 8,
   "metadata": {},
   "outputs": [
    {
     "data": {
      "text/plain": [
       "0"
      ]
     },
     "execution_count": 8,
     "metadata": {},
     "output_type": "execute_result"
    }
   ],
   "source": [
    "raw_data.isnull().sum().sum()"
   ]
  },
  {
   "cell_type": "code",
   "execution_count": 9,
   "metadata": {},
   "outputs": [
    {
     "data": {
      "text/plain": [
       "(4446965, 29)"
      ]
     },
     "execution_count": 9,
     "metadata": {},
     "output_type": "execute_result"
    }
   ],
   "source": [
    "raw_data.shape"
   ]
  },
  {
   "cell_type": "code",
   "execution_count": 10,
   "metadata": {},
   "outputs": [
    {
     "name": "stdout",
     "output_type": "stream",
     "text": [
      "Total Match Types:  16\n",
      "['squad-fpp' 'duo' 'solo-fpp' 'squad' 'duo-fpp' 'solo' 'normal-squad-fpp'\n",
      " 'crashfpp' 'flaretpp' 'normal-solo-fpp' 'flarefpp' 'normal-duo-fpp'\n",
      " 'normal-duo' 'normal-squad' 'crashtpp' 'normal-solo']\n"
     ]
    }
   ],
   "source": [
    "print('Total Match Types: ', len(raw_data['matchType'].unique()))\n",
    "print(raw_data['matchType'].unique())"
   ]
  },
  {
   "cell_type": "code",
   "execution_count": 11,
   "metadata": {},
   "outputs": [
    {
     "name": "stdout",
     "output_type": "stream",
     "text": [
      "Type squad-fpp: 1756186\n",
      "Type duo: 313591\n",
      "Type solo-fpp: 536761\n",
      "Type squad: 626526\n",
      "Type duo-fpp: 996691\n",
      "Type solo: 181943\n",
      "Type normal-squad-fpp: 17174\n",
      "Type crashfpp: 6287\n",
      "Type flaretpp: 2505\n",
      "Type normal-solo-fpp: 1682\n",
      "Type flarefpp: 718\n",
      "Type normal-duo-fpp: 5489\n",
      "Type normal-duo: 199\n",
      "Type normal-squad: 516\n",
      "Type crashtpp: 371\n",
      "Type normal-solo: 326\n"
     ]
    }
   ],
   "source": [
    "# Distribution of games by match type\n",
    "\n",
    "game_type_dict = {}\n",
    "for i in raw_data['matchType']:\n",
    "    if i not in game_type_dict:\n",
    "        game_type_dict[i] = 1\n",
    "    else:\n",
    "        game_type_dict[i] += 1\n",
    "        \n",
    "for key, value in game_type_dict.items():\n",
    "    print('Type ' + key +': ' +str(value))"
   ]
  },
  {
   "cell_type": "code",
   "execution_count": 12,
   "metadata": {},
   "outputs": [
    {
     "data": {
      "image/png": "[encoded data removed]",
      "text/plain": [
       "<Figure size 720x720 with 1 Axes>"
      ]
     },
     "metadata": {},
     "output_type": "display_data"
    }
   ],
   "source": [
    "plt.figure(figsize=(10,10)) \n",
    "colors = sns.color_palette('pastel')\n",
    "plt.pie(game_type_dict.values(), labels = game_type_dict.keys(), colors = colors, autopct='%.0f%%')\n",
    "plt.show()"
   ]
  },
  {
   "cell_type": "code",
   "execution_count": 13,
   "metadata": {
    "scrolled": true
   },
   "outputs": [
    {
     "data": {
      "text/plain": [
       "False"
      ]
     },
     "execution_count": 13,
     "metadata": {},
     "output_type": "execute_result"
    }
   ],
   "source": [
    "raw_data.duplicated(subset = 'Id').any()"
   ]
  },
  {
   "cell_type": "code",
   "execution_count": 14,
   "metadata": {},
   "outputs": [
    {
     "name": "stdout",
     "output_type": "stream",
     "text": [
      "1234468\n"
     ]
    }
   ],
   "source": [
    "duplicated = set(raw_data[raw_data.duplicated(subset = 'groupId')]['groupId'])\n",
    "print(len(duplicated))"
   ]
  },
  {
   "cell_type": "code",
   "execution_count": 15,
   "metadata": {},
   "outputs": [
    {
     "data": {
      "image/png": "[encoded data removed]",
      "text/plain": [
       "<Figure size 360x360 with 1 Axes>"
      ]
     },
     "metadata": {
      "needs_background": "light"
     },
     "output_type": "display_data"
    }
   ],
   "source": [
    "sns.displot(raw_data['winPlacePerc'], kind = 'kde')\n",
    "plt.show()"
   ]
  },
  {
   "cell_type": "code",
   "execution_count": 16,
   "metadata": {
    "scrolled": true
   },
   "outputs": [
    {
     "data": {
      "image/png": "[encoded data removed]",
      "text/plain": [
       "<Figure size 360x360 with 1 Axes>"
      ]
     },
     "metadata": {
      "needs_background": "light"
     },
     "output_type": "display_data"
    }
   ],
   "source": [
    "sns.displot(raw_data['winPoints'], kde = True)\n",
    "plt.show()"
   ]
  },
  {
   "cell_type": "code",
   "execution_count": 17,
   "metadata": {},
   "outputs": [],
   "source": [
    "grouped_assists = raw_data.groupby('matchType')['assists'].agg([np.mean, np.median])\n",
    "grouped_damageDealt = raw_data.groupby('matchType')['damageDealt'].agg([np.mean, np.median])\n",
    "grouped_kills = raw_data.groupby('matchType')['kills'].agg([np.mean, np.median])\n",
    "grouped_teamKills = raw_data.groupby('matchType')['teamKills'].agg([np.mean, np.median])\n",
    "grouped_DBNOs  = raw_data.groupby('matchType')['DBNOs'].agg([np.mean, np.median])"
   ]
  },
  {
   "cell_type": "code",
   "execution_count": 18,
   "metadata": {},
   "outputs": [
    {
     "data": {
      "image/png": "[encoded data removed]",
      "text/plain": [
       "<Figure size 432x288 with 1 Axes>"
      ]
     },
     "metadata": {
      "needs_background": "light"
     },
     "output_type": "display_data"
    }
   ],
   "source": [
    "grouped_assists.plot.bar(color = [\"green\", 'blue'])\n",
    "plt.xlabel('Match Type')\n",
    "plt.ylabel('Assists')\n",
    "plt.title(\"Assists WRT Match-Type\")\n",
    "plt.show()   "
   ]
  },
  {
   "cell_type": "code",
   "execution_count": 19,
   "metadata": {},
   "outputs": [
    {
     "data": {
      "image/png": "[encoded data removed]",
      "text/plain": [
       "<Figure size 432x288 with 1 Axes>"
      ]
     },
     "metadata": {
      "needs_background": "light"
     },
     "output_type": "display_data"
    }
   ],
   "source": [
    "grouped_damageDealt.plot.bar(color = [\"green\", 'blue'])\n",
    "plt.xlabel('Match Type')\n",
    "plt.ylabel('Damage Dealt')\n",
    "plt.title(\"Damage Dealt by Match-Type\")\n",
    "plt.show()  "
   ]
  },
  {
   "cell_type": "code",
   "execution_count": 20,
   "metadata": {},
   "outputs": [
    {
     "data": {
      "image/png": "[encoded data removed]",
      "text/plain": [
       "<Figure size 432x288 with 1 Axes>"
      ]
     },
     "metadata": {
      "needs_background": "light"
     },
     "output_type": "display_data"
    }
   ],
   "source": [
    "grouped_kills.plot.bar(color = [\"green\", 'blue'])\n",
    "plt.xlabel('Match Type')\n",
    "plt.ylabel('Kills')\n",
    "plt.title(\"Kills by Match-Type\")\n",
    "plt.show()  "
   ]
  },
  {
   "cell_type": "code",
   "execution_count": 21,
   "metadata": {},
   "outputs": [
    {
     "data": {
      "image/png": "[encoded data removed]",
      "text/plain": [
       "<Figure size 432x288 with 1 Axes>"
      ]
     },
     "metadata": {
      "needs_background": "light"
     },
     "output_type": "display_data"
    }
   ],
   "source": [
    "grouped_teamKills['mean'].plot.bar()\n",
    "plt.xlabel('Match Type')\n",
    "plt.ylabel('Team Kills')\n",
    "plt.title(\"Team Kills by Match-Type\")\n",
    "plt.show()  "
   ]
  },
  {
   "cell_type": "code",
   "execution_count": 22,
   "metadata": {},
   "outputs": [
    {
     "data": {
      "image/png": "[encoded data removed]",
      "text/plain": [
       "<Figure size 432x288 with 1 Axes>"
      ]
     },
     "metadata": {
      "needs_background": "light"
     },
     "output_type": "display_data"
    }
   ],
   "source": [
    "grouped_DBNOs.plot.bar(color = [\"green\", 'blue'])\n",
    "plt.xlabel('Match Type')\n",
    "plt.ylabel('Number of Enemy Players Knocked')\n",
    "plt.title(\"Number of Enemy Players Knocked by Match-Type\")\n",
    "plt.show()  "
   ]
  },
  {
   "cell_type": "code",
   "execution_count": 23,
   "metadata": {
    "execution": {
     "iopub.execute_input": "2022-04-10T07:43:44.184150Z",
     "iopub.status.busy": "2022-04-10T07:43:44.183867Z",
     "iopub.status.idle": "2022-04-10T07:43:44.522050Z",
     "shell.execute_reply": "2022-04-10T07:43:44.521048Z",
     "shell.execute_reply.started": "2022-04-10T07:43:44.184118Z"
    }
   },
   "outputs": [],
   "source": [
    "cols_to_drop = ['Id','groupId','matchId']\n",
    "df = raw_data.drop(cols_to_drop, axis = 1)"
   ]
  },
  {
   "cell_type": "code",
   "execution_count": 24,
   "metadata": {},
   "outputs": [
    {
     "data": {
      "image/png": "[encoded data removed]",
      "text/plain": [
       "<Figure size 1368x1080 with 2 Axes>"
      ]
     },
     "metadata": {
      "needs_background": "light"
     },
     "output_type": "display_data"
    }
   ],
   "source": [
    "f = plt.figure(figsize=(19, 15))\n",
    "plt.matshow(df.corr(), fignum=f.number)\n",
    "plt.xticks(range(df.select_dtypes(['number']).shape[1]), df.select_dtypes(['number']).columns, fontsize=14, rotation=45)\n",
    "plt.yticks(range(df.select_dtypes(['number']).shape[1]), df.select_dtypes(['number']).columns, fontsize=14)\n",
    "cb = plt.colorbar()\n",
    "cb.ax.tick_params(labelsize=14)\n",
    "plt.title('Correlation Matrix', fontsize=16)\n",
    "plt.show()"
   ]
  },
  {
   "cell_type": "code",
   "execution_count": 25,
   "metadata": {},
   "outputs": [],
   "source": [
    "scaler = StandardScaler()\n",
    "scaler.fit(df.drop(['matchType', 'winPlacePerc'], axis = 1))\n",
    "scaled = scaler.transform(df.drop(['matchType', 'winPlacePerc'], axis = 1))"
   ]
  },
  {
   "cell_type": "code",
   "execution_count": 26,
   "metadata": {},
   "outputs": [
    {
     "data": {
      "text/html": [
       "<div>\n",
       "<style scoped>\n",
       "    .dataframe tbody tr th:only-of-type {\n",
       "        vertical-align: middle;\n",
       "    }\n",
       "\n",
       "    .dataframe tbody tr th {\n",
       "        vertical-align: top;\n",
       "    }\n",
       "\n",
       "    .dataframe thead th {\n",
       "        text-align: right;\n",
       "    }\n",
       "</style>\n",
       "<table border=\"1\" class=\"dataframe\">\n",
       "  <thead>\n",
       "    <tr style=\"text-align: right;\">\n",
       "      <th></th>\n",
       "      <th>assists</th>\n",
       "      <th>boosts</th>\n",
       "      <th>damageDealt</th>\n",
       "      <th>DBNOs</th>\n",
       "      <th>headshotKills</th>\n",
       "      <th>heals</th>\n",
       "      <th>killPlace</th>\n",
       "      <th>killPoints</th>\n",
       "      <th>kills</th>\n",
       "      <th>killStreaks</th>\n",
       "      <th>...</th>\n",
       "      <th>rankPoints</th>\n",
       "      <th>revives</th>\n",
       "      <th>rideDistance</th>\n",
       "      <th>roadKills</th>\n",
       "      <th>swimDistance</th>\n",
       "      <th>teamKills</th>\n",
       "      <th>vehicleDestroys</th>\n",
       "      <th>walkDistance</th>\n",
       "      <th>weaponsAcquired</th>\n",
       "      <th>winPoints</th>\n",
       "    </tr>\n",
       "  </thead>\n",
       "  <tbody>\n",
       "    <tr>\n",
       "      <th>0</th>\n",
       "      <td>-0.397257</td>\n",
       "      <td>-0.645129</td>\n",
       "      <td>-0.765410</td>\n",
       "      <td>-0.574191</td>\n",
       "      <td>-0.37668</td>\n",
       "      <td>-0.511252</td>\n",
       "      <td>0.451541</td>\n",
       "      <td>1.172889</td>\n",
       "      <td>-0.593402</td>\n",
       "      <td>-0.765087</td>\n",
       "      <td>...</td>\n",
       "      <td>-1.212262</td>\n",
       "      <td>-0.34873</td>\n",
       "      <td>-0.404524</td>\n",
       "      <td>-0.047648</td>\n",
       "      <td>-0.147836</td>\n",
       "      <td>-0.142589</td>\n",
       "      <td>-0.085499</td>\n",
       "      <td>-0.768416</td>\n",
       "      <td>-1.083021</td>\n",
       "      <td>1.162011</td>\n",
       "    </tr>\n",
       "    <tr>\n",
       "      <th>1</th>\n",
       "      <td>-0.397257</td>\n",
       "      <td>-0.645129</td>\n",
       "      <td>-0.229810</td>\n",
       "      <td>-0.574191</td>\n",
       "      <td>-0.37668</td>\n",
       "      <td>-0.511252</td>\n",
       "      <td>0.342303</td>\n",
       "      <td>-0.804784</td>\n",
       "      <td>-0.593402</td>\n",
       "      <td>-0.765087</td>\n",
       "      <td>...</td>\n",
       "      <td>0.803627</td>\n",
       "      <td>-0.34873</td>\n",
       "      <td>-0.404521</td>\n",
       "      <td>-0.047648</td>\n",
       "      <td>0.214105</td>\n",
       "      <td>-0.142589</td>\n",
       "      <td>-0.085499</td>\n",
       "      <td>0.236403</td>\n",
       "      <td>0.545283</td>\n",
       "      <td>-0.819873</td>\n",
       "    </tr>\n",
       "    <tr>\n",
       "      <th>2</th>\n",
       "      <td>1.301767</td>\n",
       "      <td>-0.645129</td>\n",
       "      <td>-0.367238</td>\n",
       "      <td>-0.574191</td>\n",
       "      <td>-0.37668</td>\n",
       "      <td>-0.511252</td>\n",
       "      <td>-0.021824</td>\n",
       "      <td>-0.804784</td>\n",
       "      <td>-0.593402</td>\n",
       "      <td>-0.765087</td>\n",
       "      <td>...</td>\n",
       "      <td>0.813129</td>\n",
       "      <td>-0.34873</td>\n",
       "      <td>-0.404524</td>\n",
       "      <td>-0.047648</td>\n",
       "      <td>-0.147836</td>\n",
       "      <td>-0.142589</td>\n",
       "      <td>-0.085499</td>\n",
       "      <td>-0.838547</td>\n",
       "      <td>-0.675945</td>\n",
       "      <td>-0.819873</td>\n",
       "    </tr>\n",
       "    <tr>\n",
       "      <th>3</th>\n",
       "      <td>-0.397257</td>\n",
       "      <td>-0.645129</td>\n",
       "      <td>-0.572765</td>\n",
       "      <td>-0.574191</td>\n",
       "      <td>-0.37668</td>\n",
       "      <td>-0.511252</td>\n",
       "      <td>0.997732</td>\n",
       "      <td>-0.804784</td>\n",
       "      <td>-0.593402</td>\n",
       "      <td>-0.765087</td>\n",
       "      <td>...</td>\n",
       "      <td>0.700457</td>\n",
       "      <td>-0.34873</td>\n",
       "      <td>-0.404524</td>\n",
       "      <td>-0.047648</td>\n",
       "      <td>-0.147836</td>\n",
       "      <td>-0.142589</td>\n",
       "      <td>-0.085499</td>\n",
       "      <td>-0.803989</td>\n",
       "      <td>-0.268869</td>\n",
       "      <td>-0.819873</td>\n",
       "    </tr>\n",
       "    <tr>\n",
       "      <th>4</th>\n",
       "      <td>-0.397257</td>\n",
       "      <td>-0.645129</td>\n",
       "      <td>-0.179863</td>\n",
       "      <td>-0.574191</td>\n",
       "      <td>-0.37668</td>\n",
       "      <td>-0.511252</td>\n",
       "      <td>-0.094650</td>\n",
       "      <td>-0.804784</td>\n",
       "      <td>0.048264</td>\n",
       "      <td>0.641438</td>\n",
       "      <td>...</td>\n",
       "      <td>0.906797</td>\n",
       "      <td>-0.34873</td>\n",
       "      <td>-0.404524</td>\n",
       "      <td>-0.047648</td>\n",
       "      <td>-0.147836</td>\n",
       "      <td>-0.142589</td>\n",
       "      <td>-0.085499</td>\n",
       "      <td>-0.933224</td>\n",
       "      <td>-0.675945</td>\n",
       "      <td>-0.819873</td>\n",
       "    </tr>\n",
       "  </tbody>\n",
       "</table>\n",
       "<p>5 rows × 24 columns</p>\n",
       "</div>"
      ],
      "text/plain": [
       "    assists    boosts  damageDealt     DBNOs  headshotKills     heals  \\\n",
       "0 -0.397257 -0.645129    -0.765410 -0.574191       -0.37668 -0.511252   \n",
       "1 -0.397257 -0.645129    -0.229810 -0.574191       -0.37668 -0.511252   \n",
       "2  1.301767 -0.645129    -0.367238 -0.574191       -0.37668 -0.511252   \n",
       "3 -0.397257 -0.645129    -0.572765 -0.574191       -0.37668 -0.511252   \n",
       "4 -0.397257 -0.645129    -0.179863 -0.574191       -0.37668 -0.511252   \n",
       "\n",
       "   killPlace  killPoints     kills  killStreaks  ...  rankPoints  revives  \\\n",
       "0   0.451541    1.172889 -0.593402    -0.765087  ...   -1.212262 -0.34873   \n",
       "1   0.342303   -0.804784 -0.593402    -0.765087  ...    0.803627 -0.34873   \n",
       "2  -0.021824   -0.804784 -0.593402    -0.765087  ...    0.813129 -0.34873   \n",
       "3   0.997732   -0.804784 -0.593402    -0.765087  ...    0.700457 -0.34873   \n",
       "4  -0.094650   -0.804784  0.048264     0.641438  ...    0.906797 -0.34873   \n",
       "\n",
       "   rideDistance  roadKills  swimDistance  teamKills  vehicleDestroys  \\\n",
       "0     -0.404524  -0.047648     -0.147836  -0.142589        -0.085499   \n",
       "1     -0.404521  -0.047648      0.214105  -0.142589        -0.085499   \n",
       "2     -0.404524  -0.047648     -0.147836  -0.142589        -0.085499   \n",
       "3     -0.404524  -0.047648     -0.147836  -0.142589        -0.085499   \n",
       "4     -0.404524  -0.047648     -0.147836  -0.142589        -0.085499   \n",
       "\n",
       "   walkDistance  weaponsAcquired  winPoints  \n",
       "0     -0.768416        -1.083021   1.162011  \n",
       "1      0.236403         0.545283  -0.819873  \n",
       "2     -0.838547        -0.675945  -0.819873  \n",
       "3     -0.803989        -0.268869  -0.819873  \n",
       "4     -0.933224        -0.675945  -0.819873  \n",
       "\n",
       "[5 rows x 24 columns]"
      ]
     },
     "execution_count": 26,
     "metadata": {},
     "output_type": "execute_result"
    }
   ],
   "source": [
    "scaled_df = pd.DataFrame(scaled, columns = list(df.drop(['matchType', 'winPlacePerc'], axis = 1).columns))\n",
    "scaled_df.head()"
   ]
  },
  {
   "cell_type": "code",
   "execution_count": 27,
   "metadata": {},
   "outputs": [
    {
     "data": {
      "text/plain": [
       "(4446965, 24)"
      ]
     },
     "execution_count": 27,
     "metadata": {},
     "output_type": "execute_result"
    }
   ],
   "source": [
    "scaled_df.shape"
   ]
  },
  {
   "cell_type": "code",
   "execution_count": 28,
   "metadata": {},
   "outputs": [],
   "source": [
    "encoder = OneHotEncoder()\n",
    "encoded_df = pd.DataFrame(encoder.fit_transform(df[['matchType']]).toarray())\n",
    "encoded_df.columns = list(encoder.get_feature_names_out())"
   ]
  },
  {
   "cell_type": "code",
   "execution_count": 29,
   "metadata": {},
   "outputs": [
    {
     "data": {
      "text/html": [
       "<div>\n",
       "<style scoped>\n",
       "    .dataframe tbody tr th:only-of-type {\n",
       "        vertical-align: middle;\n",
       "    }\n",
       "\n",
       "    .dataframe tbody tr th {\n",
       "        vertical-align: top;\n",
       "    }\n",
       "\n",
       "    .dataframe thead th {\n",
       "        text-align: right;\n",
       "    }\n",
       "</style>\n",
       "<table border=\"1\" class=\"dataframe\">\n",
       "  <thead>\n",
       "    <tr style=\"text-align: right;\">\n",
       "      <th></th>\n",
       "      <th>matchType_crashfpp</th>\n",
       "      <th>matchType_crashtpp</th>\n",
       "      <th>matchType_duo</th>\n",
       "      <th>matchType_duo-fpp</th>\n",
       "      <th>matchType_flarefpp</th>\n",
       "      <th>matchType_flaretpp</th>\n",
       "      <th>matchType_normal-duo</th>\n",
       "      <th>matchType_normal-duo-fpp</th>\n",
       "      <th>matchType_normal-solo</th>\n",
       "      <th>matchType_normal-solo-fpp</th>\n",
       "      <th>matchType_normal-squad</th>\n",
       "      <th>matchType_normal-squad-fpp</th>\n",
       "      <th>matchType_solo</th>\n",
       "      <th>matchType_solo-fpp</th>\n",
       "      <th>matchType_squad</th>\n",
       "      <th>matchType_squad-fpp</th>\n",
       "    </tr>\n",
       "  </thead>\n",
       "  <tbody>\n",
       "    <tr>\n",
       "      <th>0</th>\n",
       "      <td>0.0</td>\n",
       "      <td>0.0</td>\n",
       "      <td>0.0</td>\n",
       "      <td>0.0</td>\n",
       "      <td>0.0</td>\n",
       "      <td>0.0</td>\n",
       "      <td>0.0</td>\n",
       "      <td>0.0</td>\n",
       "      <td>0.0</td>\n",
       "      <td>0.0</td>\n",
       "      <td>0.0</td>\n",
       "      <td>0.0</td>\n",
       "      <td>0.0</td>\n",
       "      <td>0.0</td>\n",
       "      <td>0.0</td>\n",
       "      <td>1.0</td>\n",
       "    </tr>\n",
       "    <tr>\n",
       "      <th>1</th>\n",
       "      <td>0.0</td>\n",
       "      <td>0.0</td>\n",
       "      <td>0.0</td>\n",
       "      <td>0.0</td>\n",
       "      <td>0.0</td>\n",
       "      <td>0.0</td>\n",
       "      <td>0.0</td>\n",
       "      <td>0.0</td>\n",
       "      <td>0.0</td>\n",
       "      <td>0.0</td>\n",
       "      <td>0.0</td>\n",
       "      <td>0.0</td>\n",
       "      <td>0.0</td>\n",
       "      <td>0.0</td>\n",
       "      <td>0.0</td>\n",
       "      <td>1.0</td>\n",
       "    </tr>\n",
       "    <tr>\n",
       "      <th>2</th>\n",
       "      <td>0.0</td>\n",
       "      <td>0.0</td>\n",
       "      <td>1.0</td>\n",
       "      <td>0.0</td>\n",
       "      <td>0.0</td>\n",
       "      <td>0.0</td>\n",
       "      <td>0.0</td>\n",
       "      <td>0.0</td>\n",
       "      <td>0.0</td>\n",
       "      <td>0.0</td>\n",
       "      <td>0.0</td>\n",
       "      <td>0.0</td>\n",
       "      <td>0.0</td>\n",
       "      <td>0.0</td>\n",
       "      <td>0.0</td>\n",
       "      <td>0.0</td>\n",
       "    </tr>\n",
       "    <tr>\n",
       "      <th>3</th>\n",
       "      <td>0.0</td>\n",
       "      <td>0.0</td>\n",
       "      <td>0.0</td>\n",
       "      <td>0.0</td>\n",
       "      <td>0.0</td>\n",
       "      <td>0.0</td>\n",
       "      <td>0.0</td>\n",
       "      <td>0.0</td>\n",
       "      <td>0.0</td>\n",
       "      <td>0.0</td>\n",
       "      <td>0.0</td>\n",
       "      <td>0.0</td>\n",
       "      <td>0.0</td>\n",
       "      <td>0.0</td>\n",
       "      <td>0.0</td>\n",
       "      <td>1.0</td>\n",
       "    </tr>\n",
       "    <tr>\n",
       "      <th>4</th>\n",
       "      <td>0.0</td>\n",
       "      <td>0.0</td>\n",
       "      <td>0.0</td>\n",
       "      <td>0.0</td>\n",
       "      <td>0.0</td>\n",
       "      <td>0.0</td>\n",
       "      <td>0.0</td>\n",
       "      <td>0.0</td>\n",
       "      <td>0.0</td>\n",
       "      <td>0.0</td>\n",
       "      <td>0.0</td>\n",
       "      <td>0.0</td>\n",
       "      <td>0.0</td>\n",
       "      <td>1.0</td>\n",
       "      <td>0.0</td>\n",
       "      <td>0.0</td>\n",
       "    </tr>\n",
       "  </tbody>\n",
       "</table>\n",
       "</div>"
      ],
      "text/plain": [
       "   matchType_crashfpp  matchType_crashtpp  matchType_duo  matchType_duo-fpp  \\\n",
       "0                 0.0                 0.0            0.0                0.0   \n",
       "1                 0.0                 0.0            0.0                0.0   \n",
       "2                 0.0                 0.0            1.0                0.0   \n",
       "3                 0.0                 0.0            0.0                0.0   \n",
       "4                 0.0                 0.0            0.0                0.0   \n",
       "\n",
       "   matchType_flarefpp  matchType_flaretpp  matchType_normal-duo  \\\n",
       "0                 0.0                 0.0                   0.0   \n",
       "1                 0.0                 0.0                   0.0   \n",
       "2                 0.0                 0.0                   0.0   \n",
       "3                 0.0                 0.0                   0.0   \n",
       "4                 0.0                 0.0                   0.0   \n",
       "\n",
       "   matchType_normal-duo-fpp  matchType_normal-solo  matchType_normal-solo-fpp  \\\n",
       "0                       0.0                    0.0                        0.0   \n",
       "1                       0.0                    0.0                        0.0   \n",
       "2                       0.0                    0.0                        0.0   \n",
       "3                       0.0                    0.0                        0.0   \n",
       "4                       0.0                    0.0                        0.0   \n",
       "\n",
       "   matchType_normal-squad  matchType_normal-squad-fpp  matchType_solo  \\\n",
       "0                     0.0                         0.0             0.0   \n",
       "1                     0.0                         0.0             0.0   \n",
       "2                     0.0                         0.0             0.0   \n",
       "3                     0.0                         0.0             0.0   \n",
       "4                     0.0                         0.0             0.0   \n",
       "\n",
       "   matchType_solo-fpp  matchType_squad  matchType_squad-fpp  \n",
       "0                 0.0              0.0                  1.0  \n",
       "1                 0.0              0.0                  1.0  \n",
       "2                 0.0              0.0                  0.0  \n",
       "3                 0.0              0.0                  1.0  \n",
       "4                 1.0              0.0                  0.0  "
      ]
     },
     "execution_count": 29,
     "metadata": {},
     "output_type": "execute_result"
    }
   ],
   "source": [
    "encoded_df.head()"
   ]
  },
  {
   "cell_type": "code",
   "execution_count": 30,
   "metadata": {},
   "outputs": [
    {
     "name": "stdout",
     "output_type": "stream",
     "text": [
      "(4446965, 16)\n",
      "(4446965, 24)\n",
      "4446965\n"
     ]
    }
   ],
   "source": [
    "print(encoded_df.shape)\n",
    "print(scaled_df.shape)\n",
    "print(len(df['winPlacePerc']))"
   ]
  },
  {
   "cell_type": "code",
   "execution_count": 31,
   "metadata": {},
   "outputs": [],
   "source": [
    "X = scaled_df.join(encoded_df)"
   ]
  },
  {
   "cell_type": "code",
   "execution_count": 32,
   "metadata": {},
   "outputs": [
    {
     "data": {
      "text/html": [
       "<div>\n",
       "<style scoped>\n",
       "    .dataframe tbody tr th:only-of-type {\n",
       "        vertical-align: middle;\n",
       "    }\n",
       "\n",
       "    .dataframe tbody tr th {\n",
       "        vertical-align: top;\n",
       "    }\n",
       "\n",
       "    .dataframe thead th {\n",
       "        text-align: right;\n",
       "    }\n",
       "</style>\n",
       "<table border=\"1\" class=\"dataframe\">\n",
       "  <thead>\n",
       "    <tr style=\"text-align: right;\">\n",
       "      <th></th>\n",
       "      <th>assists</th>\n",
       "      <th>boosts</th>\n",
       "      <th>damageDealt</th>\n",
       "      <th>DBNOs</th>\n",
       "      <th>headshotKills</th>\n",
       "      <th>heals</th>\n",
       "      <th>killPlace</th>\n",
       "      <th>killPoints</th>\n",
       "      <th>kills</th>\n",
       "      <th>killStreaks</th>\n",
       "      <th>...</th>\n",
       "      <th>matchType_normal-duo</th>\n",
       "      <th>matchType_normal-duo-fpp</th>\n",
       "      <th>matchType_normal-solo</th>\n",
       "      <th>matchType_normal-solo-fpp</th>\n",
       "      <th>matchType_normal-squad</th>\n",
       "      <th>matchType_normal-squad-fpp</th>\n",
       "      <th>matchType_solo</th>\n",
       "      <th>matchType_solo-fpp</th>\n",
       "      <th>matchType_squad</th>\n",
       "      <th>matchType_squad-fpp</th>\n",
       "    </tr>\n",
       "  </thead>\n",
       "  <tbody>\n",
       "    <tr>\n",
       "      <th>0</th>\n",
       "      <td>-0.397257</td>\n",
       "      <td>-0.645129</td>\n",
       "      <td>-0.765410</td>\n",
       "      <td>-0.574191</td>\n",
       "      <td>-0.37668</td>\n",
       "      <td>-0.511252</td>\n",
       "      <td>0.451541</td>\n",
       "      <td>1.172889</td>\n",
       "      <td>-0.593402</td>\n",
       "      <td>-0.765087</td>\n",
       "      <td>...</td>\n",
       "      <td>0.0</td>\n",
       "      <td>0.0</td>\n",
       "      <td>0.0</td>\n",
       "      <td>0.0</td>\n",
       "      <td>0.0</td>\n",
       "      <td>0.0</td>\n",
       "      <td>0.0</td>\n",
       "      <td>0.0</td>\n",
       "      <td>0.0</td>\n",
       "      <td>1.0</td>\n",
       "    </tr>\n",
       "    <tr>\n",
       "      <th>1</th>\n",
       "      <td>-0.397257</td>\n",
       "      <td>-0.645129</td>\n",
       "      <td>-0.229810</td>\n",
       "      <td>-0.574191</td>\n",
       "      <td>-0.37668</td>\n",
       "      <td>-0.511252</td>\n",
       "      <td>0.342303</td>\n",
       "      <td>-0.804784</td>\n",
       "      <td>-0.593402</td>\n",
       "      <td>-0.765087</td>\n",
       "      <td>...</td>\n",
       "      <td>0.0</td>\n",
       "      <td>0.0</td>\n",
       "      <td>0.0</td>\n",
       "      <td>0.0</td>\n",
       "      <td>0.0</td>\n",
       "      <td>0.0</td>\n",
       "      <td>0.0</td>\n",
       "      <td>0.0</td>\n",
       "      <td>0.0</td>\n",
       "      <td>1.0</td>\n",
       "    </tr>\n",
       "    <tr>\n",
       "      <th>2</th>\n",
       "      <td>1.301767</td>\n",
       "      <td>-0.645129</td>\n",
       "      <td>-0.367238</td>\n",
       "      <td>-0.574191</td>\n",
       "      <td>-0.37668</td>\n",
       "      <td>-0.511252</td>\n",
       "      <td>-0.021824</td>\n",
       "      <td>-0.804784</td>\n",
       "      <td>-0.593402</td>\n",
       "      <td>-0.765087</td>\n",
       "      <td>...</td>\n",
       "      <td>0.0</td>\n",
       "      <td>0.0</td>\n",
       "      <td>0.0</td>\n",
       "      <td>0.0</td>\n",
       "      <td>0.0</td>\n",
       "      <td>0.0</td>\n",
       "      <td>0.0</td>\n",
       "      <td>0.0</td>\n",
       "      <td>0.0</td>\n",
       "      <td>0.0</td>\n",
       "    </tr>\n",
       "    <tr>\n",
       "      <th>3</th>\n",
       "      <td>-0.397257</td>\n",
       "      <td>-0.645129</td>\n",
       "      <td>-0.572765</td>\n",
       "      <td>-0.574191</td>\n",
       "      <td>-0.37668</td>\n",
       "      <td>-0.511252</td>\n",
       "      <td>0.997732</td>\n",
       "      <td>-0.804784</td>\n",
       "      <td>-0.593402</td>\n",
       "      <td>-0.765087</td>\n",
       "      <td>...</td>\n",
       "      <td>0.0</td>\n",
       "      <td>0.0</td>\n",
       "      <td>0.0</td>\n",
       "      <td>0.0</td>\n",
       "      <td>0.0</td>\n",
       "      <td>0.0</td>\n",
       "      <td>0.0</td>\n",
       "      <td>0.0</td>\n",
       "      <td>0.0</td>\n",
       "      <td>1.0</td>\n",
       "    </tr>\n",
       "    <tr>\n",
       "      <th>4</th>\n",
       "      <td>-0.397257</td>\n",
       "      <td>-0.645129</td>\n",
       "      <td>-0.179863</td>\n",
       "      <td>-0.574191</td>\n",
       "      <td>-0.37668</td>\n",
       "      <td>-0.511252</td>\n",
       "      <td>-0.094650</td>\n",
       "      <td>-0.804784</td>\n",
       "      <td>0.048264</td>\n",
       "      <td>0.641438</td>\n",
       "      <td>...</td>\n",
       "      <td>0.0</td>\n",
       "      <td>0.0</td>\n",
       "      <td>0.0</td>\n",
       "      <td>0.0</td>\n",
       "      <td>0.0</td>\n",
       "      <td>0.0</td>\n",
       "      <td>0.0</td>\n",
       "      <td>1.0</td>\n",
       "      <td>0.0</td>\n",
       "      <td>0.0</td>\n",
       "    </tr>\n",
       "  </tbody>\n",
       "</table>\n",
       "<p>5 rows × 40 columns</p>\n",
       "</div>"
      ],
      "text/plain": [
       "    assists    boosts  damageDealt     DBNOs  headshotKills     heals  \\\n",
       "0 -0.397257 -0.645129    -0.765410 -0.574191       -0.37668 -0.511252   \n",
       "1 -0.397257 -0.645129    -0.229810 -0.574191       -0.37668 -0.511252   \n",
       "2  1.301767 -0.645129    -0.367238 -0.574191       -0.37668 -0.511252   \n",
       "3 -0.397257 -0.645129    -0.572765 -0.574191       -0.37668 -0.511252   \n",
       "4 -0.397257 -0.645129    -0.179863 -0.574191       -0.37668 -0.511252   \n",
       "\n",
       "   killPlace  killPoints     kills  killStreaks  ...  matchType_normal-duo  \\\n",
       "0   0.451541    1.172889 -0.593402    -0.765087  ...                   0.0   \n",
       "1   0.342303   -0.804784 -0.593402    -0.765087  ...                   0.0   \n",
       "2  -0.021824   -0.804784 -0.593402    -0.765087  ...                   0.0   \n",
       "3   0.997732   -0.804784 -0.593402    -0.765087  ...                   0.0   \n",
       "4  -0.094650   -0.804784  0.048264     0.641438  ...                   0.0   \n",
       "\n",
       "   matchType_normal-duo-fpp  matchType_normal-solo  matchType_normal-solo-fpp  \\\n",
       "0                       0.0                    0.0                        0.0   \n",
       "1                       0.0                    0.0                        0.0   \n",
       "2                       0.0                    0.0                        0.0   \n",
       "3                       0.0                    0.0                        0.0   \n",
       "4                       0.0                    0.0                        0.0   \n",
       "\n",
       "   matchType_normal-squad  matchType_normal-squad-fpp  matchType_solo  \\\n",
       "0                     0.0                         0.0             0.0   \n",
       "1                     0.0                         0.0             0.0   \n",
       "2                     0.0                         0.0             0.0   \n",
       "3                     0.0                         0.0             0.0   \n",
       "4                     0.0                         0.0             0.0   \n",
       "\n",
       "   matchType_solo-fpp  matchType_squad  matchType_squad-fpp  \n",
       "0                 0.0              0.0                  1.0  \n",
       "1                 0.0              0.0                  1.0  \n",
       "2                 0.0              0.0                  0.0  \n",
       "3                 0.0              0.0                  1.0  \n",
       "4                 1.0              0.0                  0.0  \n",
       "\n",
       "[5 rows x 40 columns]"
      ]
     },
     "execution_count": 32,
     "metadata": {},
     "output_type": "execute_result"
    }
   ],
   "source": [
    "X.head()"
   ]
  },
  {
   "cell_type": "code",
   "execution_count": 33,
   "metadata": {},
   "outputs": [],
   "source": [
    "y = df['winPlacePerc']"
   ]
  },
  {
   "cell_type": "code",
   "execution_count": 34,
   "metadata": {},
   "outputs": [],
   "source": [
    "X_train, X_test, y_train, y_test = train_test_split(X, y, test_size = 0.2, random_state = 41)"
   ]
  },
  {
   "cell_type": "code",
   "execution_count": 35,
   "metadata": {},
   "outputs": [
    {
     "data": {
      "text/plain": [
       "XGBRegressor(base_score=0.5, booster='gbtree', colsample_bylevel=1,\n",
       "             colsample_bynode=1, colsample_bytree=1, enable_categorical=False,\n",
       "             gamma=0, gpu_id=-1, importance_type=None,\n",
       "             interaction_constraints='', learning_rate=0.300000012,\n",
       "             max_delta_step=0, max_depth=6, min_child_weight=1, missing=nan,\n",
       "             monotone_constraints='()', n_estimators=100, n_jobs=8,\n",
       "             num_parallel_tree=1, predictor='auto', random_state=0, reg_alpha=0,\n",
       "             reg_lambda=1, scale_pos_weight=1, subsample=1, tree_method='exact',\n",
       "             validate_parameters=1, verbosity=None)"
      ]
     },
     "execution_count": 35,
     "metadata": {},
     "output_type": "execute_result"
    }
   ],
   "source": [
    "xg_reg = xgb.XGBRegressor(objective='reg:squarederror')\n",
    "xg_reg.fit(X_train, y_train)"
   ]
  },
  {
   "cell_type": "code",
   "execution_count": 36,
   "metadata": {},
   "outputs": [],
   "source": [
    "y_pred_xgb = xg_reg.predict(X_test)\n",
    "y_pred_train_xgb = xg_reg.predict(X_train)"
   ]
  },
  {
   "cell_type": "code",
   "execution_count": 37,
   "metadata": {},
   "outputs": [
    {
     "name": "stdout",
     "output_type": "stream",
     "text": [
      "Training Set Root Mean Squared Error:  0.08054111490805252\n",
      "Testing Set Root Mean Squared Error:  0.08144528929704921\n"
     ]
    }
   ],
   "source": [
    "rmse_train = np.sqrt(mean_squared_error(y_train, y_pred_train_xgb))\n",
    "rmse_test = np.sqrt(mean_squared_error(y_test, y_pred_xgb))\n",
    "print('Training Set Root Mean Squared Error: ', rmse_train)\n",
    "print('Testing Set Root Mean Squared Error: ', rmse_test)"
   ]
  },
  {
   "cell_type": "code",
   "execution_count": 42,
   "metadata": {},
   "outputs": [],
   "source": [
    "def predict_results(test):\n",
    "    if test.isnull().sum().sum()!=0:\n",
    "        error = 'Error: Data contains NULLs!'\n",
    "        return error\n",
    "    else:\n",
    "        cols_to_drop = ['Id','groupId','matchId']\n",
    "        test = test.drop(cols_to_drop, axis = 1)\n",
    "        test_scaled = pd.DataFrame(scaler.transform(test.drop('matchType', axis = 1)), columns = list(test.drop('matchType', axis = 1).columns))\n",
    "        test_encoded = pd.DataFrame(encoder.fit_transform(test[['matchType']]).toarray())\n",
    "        test_encoded.columns = list(encoder.get_feature_names())\n",
    "        test_X = test_scaled.join(test_encoded)\n",
    "        results = pd.DataFrame(xg_reg.predict(test_X))\n",
    "        return results"
   ]
  },
  {
   "cell_type": "code",
   "execution_count": 43,
   "metadata": {},
   "outputs": [],
   "source": [
    "raw_data_test = pd.read_csv(r\"test_V2.csv\")"
   ]
  },
  {
   "cell_type": "code",
   "execution_count": 44,
   "metadata": {},
   "outputs": [
    {
     "data": {
      "text/plain": [
       "Id                 0\n",
       "groupId            0\n",
       "matchId            0\n",
       "assists            0\n",
       "boosts             0\n",
       "damageDealt        0\n",
       "DBNOs              0\n",
       "headshotKills      0\n",
       "heals              0\n",
       "killPlace          0\n",
       "killPoints         0\n",
       "kills              0\n",
       "killStreaks        0\n",
       "longestKill        0\n",
       "matchDuration      0\n",
       "matchType          0\n",
       "maxPlace           0\n",
       "numGroups          0\n",
       "rankPoints         0\n",
       "revives            0\n",
       "rideDistance       0\n",
       "roadKills          0\n",
       "swimDistance       0\n",
       "teamKills          0\n",
       "vehicleDestroys    0\n",
       "walkDistance       0\n",
       "weaponsAcquired    0\n",
       "winPoints          0\n",
       "dtype: int64"
      ]
     },
     "execution_count": 44,
     "metadata": {},
     "output_type": "execute_result"
    }
   ],
   "source": [
    "raw_data_test.isna().sum()"
   ]
  },
  {
   "cell_type": "code",
   "execution_count": 48,
   "metadata": {},
   "outputs": [
    {
     "data": {
      "text/html": [
       "<div>\n",
       "<style scoped>\n",
       "    .dataframe tbody tr th:only-of-type {\n",
       "        vertical-align: middle;\n",
       "    }\n",
       "\n",
       "    .dataframe tbody tr th {\n",
       "        vertical-align: top;\n",
       "    }\n",
       "\n",
       "    .dataframe thead th {\n",
       "        text-align: right;\n",
       "    }\n",
       "</style>\n",
       "<table border=\"1\" class=\"dataframe\">\n",
       "  <thead>\n",
       "    <tr style=\"text-align: right;\">\n",
       "      <th></th>\n",
       "      <th>winPlacePerc</th>\n",
       "      <th>Id</th>\n",
       "    </tr>\n",
       "  </thead>\n",
       "  <tbody>\n",
       "    <tr>\n",
       "      <th>0</th>\n",
       "      <td>0.251205</td>\n",
       "      <td>9329eb41e215eb</td>\n",
       "    </tr>\n",
       "    <tr>\n",
       "      <th>1</th>\n",
       "      <td>0.966886</td>\n",
       "      <td>639bd0dcd7bda8</td>\n",
       "    </tr>\n",
       "    <tr>\n",
       "      <th>2</th>\n",
       "      <td>0.669587</td>\n",
       "      <td>63d5c8ef8dfe91</td>\n",
       "    </tr>\n",
       "    <tr>\n",
       "      <th>3</th>\n",
       "      <td>0.513309</td>\n",
       "      <td>cf5b81422591d1</td>\n",
       "    </tr>\n",
       "    <tr>\n",
       "      <th>4</th>\n",
       "      <td>0.924701</td>\n",
       "      <td>ee6a295187ba21</td>\n",
       "    </tr>\n",
       "    <tr>\n",
       "      <th>...</th>\n",
       "      <td>...</td>\n",
       "      <td>...</td>\n",
       "    </tr>\n",
       "    <tr>\n",
       "      <th>1934169</th>\n",
       "      <td>0.695163</td>\n",
       "      <td>a316c3a13887d5</td>\n",
       "    </tr>\n",
       "    <tr>\n",
       "      <th>1934170</th>\n",
       "      <td>0.450836</td>\n",
       "      <td>5312146b27d875</td>\n",
       "    </tr>\n",
       "    <tr>\n",
       "      <th>1934171</th>\n",
       "      <td>0.903879</td>\n",
       "      <td>fc8818b5b32ad3</td>\n",
       "    </tr>\n",
       "    <tr>\n",
       "      <th>1934172</th>\n",
       "      <td>0.852812</td>\n",
       "      <td>a0f91e35f8458f</td>\n",
       "    </tr>\n",
       "    <tr>\n",
       "      <th>1934173</th>\n",
       "      <td>0.071231</td>\n",
       "      <td>3696fc9f3a42b2</td>\n",
       "    </tr>\n",
       "  </tbody>\n",
       "</table>\n",
       "<p>1934174 rows × 2 columns</p>\n",
       "</div>"
      ],
      "text/plain": [
       "         winPlacePerc              Id\n",
       "0            0.251205  9329eb41e215eb\n",
       "1            0.966886  639bd0dcd7bda8\n",
       "2            0.669587  63d5c8ef8dfe91\n",
       "3            0.513309  cf5b81422591d1\n",
       "4            0.924701  ee6a295187ba21\n",
       "...               ...             ...\n",
       "1934169      0.695163  a316c3a13887d5\n",
       "1934170      0.450836  5312146b27d875\n",
       "1934171      0.903879  fc8818b5b32ad3\n",
       "1934172      0.852812  a0f91e35f8458f\n",
       "1934173      0.071231  3696fc9f3a42b2\n",
       "\n",
       "[1934174 rows x 2 columns]"
      ]
     },
     "execution_count": 48,
     "metadata": {},
     "output_type": "execute_result"
    }
   ],
   "source": [
    "test_results = predict_results(raw_data_test)\n",
    "test_results['Id'] = raw_data_test['Id']\n",
    "test_results.rename(columns = {0:'winPlacePerc'})"
   ]
  }
 ],
 "metadata": {
  "kernelspec": {
   "display_name": "Python 3 (ipykernel)",
   "language": "python",
   "name": "python3"
  },
  "language_info": {
   "codemirror_mode": {
    "name": "ipython",
    "version": 3
   },
   "file_extension": ".py",
   "mimetype": "text/x-python",
   "name": "python",
   "nbconvert_exporter": "python",
   "pygments_lexer": "ipython3",
   "version": "3.9.7"
  }
 },
 "nbformat": 4,
 "nbformat_minor": 4
}
